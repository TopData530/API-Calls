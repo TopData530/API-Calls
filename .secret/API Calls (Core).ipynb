{
 "cells": [
  {
   "cell_type": "code",
   "execution_count": 67,
   "id": "68c76b73",
   "metadata": {},
   "outputs": [],
   "source": [
    "# Standard Imports\n",
    "import numpy as np\n",
    "import pandas as pd\n",
    "import matplotlib.pyplot as plt\n",
    "import seaborn as sns\n",
    "# Additional Imports\n",
    "import os, json, math, time\n",
    "from yelpapi import YelpAPI\n",
    "from tqdm.notebook import tqdm_notebook"
   ]
  },
  {
   "cell_type": "code",
   "execution_count": 68,
   "id": "b52477ee",
   "metadata": {},
   "outputs": [
    {
     "data": {
      "text/plain": [
       "dict_keys(['client-id', 'api-key'])"
      ]
     },
     "execution_count": 68,
     "metadata": {},
     "output_type": "execute_result"
    }
   ],
   "source": [
    "#Load api key from secret file\n",
    "with open('/Data Enrichment/Week 2/API Calls/API-Calls/.secret/yelp_api.json') as f:\n",
    "    login = json.load(f)\n",
    "login.keys()"
   ]
  },
  {
   "cell_type": "code",
   "execution_count": 69,
   "id": "f51b8a31",
   "metadata": {},
   "outputs": [
    {
     "data": {
      "text/plain": [
       "<yelpapi.yelpapi.YelpAPI at 0x13f62fbb7c0>"
      ]
     },
     "execution_count": 69,
     "metadata": {},
     "output_type": "execute_result"
    }
   ],
   "source": [
    "#Instantiate yelp api\n",
    "yelp_api = YelpAPI(login['api-key'], timeout_s=5.0)\n",
    "yelp_api"
   ]
  },
  {
   "cell_type": "markdown",
   "id": "d05af832",
   "metadata": {},
   "source": [
    "## As before, you will use the Yelp API to search your favorite city for a cuisine type of your choice."
   ]
  },
  {
   "cell_type": "code",
   "execution_count": 70,
   "id": "22d59e01",
   "metadata": {},
   "outputs": [
    {
     "name": "stdout",
     "output_type": "stream",
     "text": [
      "Help on method search_query in module yelpapi.yelpapi:\n",
      "\n",
      "search_query(**kwargs) method of yelpapi.yelpapi.YelpAPI instance\n",
      "    Query the Yelp Search API.\n",
      "    \n",
      "    documentation: https://www.yelp.com/developers/documentation/v3/business_search\n",
      "    \n",
      "    required parameters:\n",
      "        * one of either:\n",
      "            * location - text specifying a location to search for\n",
      "            * latitude and longitude\n",
      "\n"
     ]
    }
   ],
   "source": [
    "help(yelp_api.search_query)"
   ]
  },
  {
   "cell_type": "code",
   "execution_count": 71,
   "id": "a2c1e9e9",
   "metadata": {},
   "outputs": [
    {
     "data": {
      "text/plain": [
       "'Data/results_in_progress_Redding_Thai-food.json'"
      ]
     },
     "execution_count": 71,
     "metadata": {},
     "output_type": "execute_result"
    }
   ],
   "source": [
    "# Specifying JSON_FILE filename (can include a folder)\n",
    "# include the search terms in the filename\n",
    "JSON_FILE = \"Data/results_in_progress_Redding_Thai-food.json\"\n",
    "JSON_FILE"
   ]
  },
  {
   "cell_type": "code",
   "execution_count": 72,
   "id": "29fcdae2",
   "metadata": {},
   "outputs": [
    {
     "name": "stdout",
     "output_type": "stream",
     "text": [
      "[i] Data/results_in_progress_Redding_Thai-food.json not found. Saving empty list to file.\n"
     ]
    }
   ],
   "source": [
    "## Check if JSON_FILE exists\n",
    "file_exists = os.path.isfile(JSON_FILE)\n",
    "## If it does not exist: \n",
    "if file_exists == False:\n",
    "    \n",
    "    ## CREATE ANY NEEDED FOLDERS\n",
    "    # Get the Folder Name only\n",
    "    folder = os.path.dirname(JSON_FILE)\n",
    "    ## If JSON_FILE included a folder:\n",
    "    if len(folder)>0:\n",
    "        # create the folder\n",
    "        os.makedirs(folder,exist_ok=True)\n",
    "        \n",
    "        \n",
    "    ## INFORM USER AND SAVE EMPTY LIST\n",
    "    print(f'[i] {JSON_FILE} not found. Saving empty list to file.')\n",
    "    \n",
    "    \n",
    "    # save an empty list\n",
    "    with open(JSON_FILE,'w') as f:\n",
    "        json.dump([],f)  \n",
    "# If it exists, inform user\n",
    "else:\n",
    "    print(f\"[i] {JSON_FILE} already exists.\")\n"
   ]
  },
  {
   "cell_type": "code",
   "execution_count": 73,
   "id": "d5256dbd",
   "metadata": {},
   "outputs": [
    {
     "name": "stdout",
     "output_type": "stream",
     "text": [
      "- 0 previous results found.\n"
     ]
    }
   ],
   "source": [
    "## Load previous results and use len of results for offset\n",
    "with open(JSON_FILE,'r') as f:\n",
    "    previous_results = json.load(f)\n",
    "    \n",
    "## set offset based on previous results\n",
    "n_results = len(previous_results)\n",
    "print(f'- {n_results} previous results found.')"
   ]
  },
  {
   "cell_type": "code",
   "execution_count": 74,
   "id": "d3a52478",
   "metadata": {},
   "outputs": [],
   "source": [
    "Location = 'Redding, CA'\n",
    "Term = 'Thai-food'"
   ]
  },
  {
   "cell_type": "code",
   "execution_count": 75,
   "id": "0d479294",
   "metadata": {
    "scrolled": true
   },
   "outputs": [
    {
     "name": "stdout",
     "output_type": "stream",
     "text": [
      "<class 'dict'>\n"
     ]
    },
    {
     "data": {
      "text/plain": [
       "dict_keys(['businesses', 'total', 'region'])"
      ]
     },
     "execution_count": 75,
     "metadata": {},
     "output_type": "execute_result"
    }
   ],
   "source": [
    "# use our yelp_api variable's search_query method to perform our API call\n",
    "search_results = yelp_api.search_query(location=Location,\n",
    "                                       term=Term,\n",
    "                                      offset=n_results)\n",
    "print(type(search_results))\n",
    "search_results.keys()"
   ]
  },
  {
   "cell_type": "code",
   "execution_count": 76,
   "id": "189d8dd2",
   "metadata": {},
   "outputs": [
    {
     "data": {
      "text/plain": [
       "18"
      ]
     },
     "execution_count": 76,
     "metadata": {},
     "output_type": "execute_result"
    }
   ],
   "source": [
    "## How many results total?\n",
    "total_results = search_results['total']\n",
    "total_results"
   ]
  },
  {
   "cell_type": "code",
   "execution_count": 77,
   "id": "aa180484",
   "metadata": {},
   "outputs": [
    {
     "data": {
      "text/plain": [
       "18"
      ]
     },
     "execution_count": 77,
     "metadata": {},
     "output_type": "execute_result"
    }
   ],
   "source": [
    "## How many did we get the details for?\n",
    "results_per_page = len(search_results['businesses'])\n",
    "results_per_page"
   ]
  },
  {
   "cell_type": "code",
   "execution_count": 78,
   "id": "4b5b1df8",
   "metadata": {},
   "outputs": [
    {
     "data": {
      "text/html": [
       "<div>\n",
       "<style scoped>\n",
       "    .dataframe tbody tr th:only-of-type {\n",
       "        vertical-align: middle;\n",
       "    }\n",
       "\n",
       "    .dataframe tbody tr th {\n",
       "        vertical-align: top;\n",
       "    }\n",
       "\n",
       "    .dataframe thead th {\n",
       "        text-align: right;\n",
       "    }\n",
       "</style>\n",
       "<table border=\"1\" class=\"dataframe\">\n",
       "  <thead>\n",
       "    <tr style=\"text-align: right;\">\n",
       "      <th></th>\n",
       "      <th>id</th>\n",
       "      <th>alias</th>\n",
       "      <th>name</th>\n",
       "      <th>image_url</th>\n",
       "      <th>is_closed</th>\n",
       "      <th>url</th>\n",
       "      <th>review_count</th>\n",
       "      <th>categories</th>\n",
       "      <th>rating</th>\n",
       "      <th>coordinates</th>\n",
       "      <th>transactions</th>\n",
       "      <th>price</th>\n",
       "      <th>location</th>\n",
       "      <th>phone</th>\n",
       "      <th>display_phone</th>\n",
       "      <th>distance</th>\n",
       "    </tr>\n",
       "  </thead>\n",
       "  <tbody>\n",
       "    <tr>\n",
       "      <th>0</th>\n",
       "      <td>R_clG6jfCQCKHkEGpAUGxA</td>\n",
       "      <td>champa-garden-redding</td>\n",
       "      <td>Champa Garden</td>\n",
       "      <td>https://s3-media3.fl.yelpcdn.com/bphoto/6NUt98...</td>\n",
       "      <td>False</td>\n",
       "      <td>https://www.yelp.com/biz/champa-garden-redding...</td>\n",
       "      <td>889</td>\n",
       "      <td>[{'alias': 'thai', 'title': 'Thai'}, {'alias':...</td>\n",
       "      <td>4.5</td>\n",
       "      <td>{'latitude': 40.59129, 'longitude': -122.35724}</td>\n",
       "      <td>[delivery]</td>\n",
       "      <td>$$</td>\n",
       "      <td>{'address1': '1107 Hilltop Dr', 'address2': ''...</td>\n",
       "      <td>+15302214999</td>\n",
       "      <td>(530) 221-4999</td>\n",
       "      <td>1942.462090</td>\n",
       "    </tr>\n",
       "    <tr>\n",
       "      <th>1</th>\n",
       "      <td>3ZgGOThmrvrYBnmKgyFYJg</td>\n",
       "      <td>thai-hut-redding</td>\n",
       "      <td>Thai Hut</td>\n",
       "      <td>https://s3-media3.fl.yelpcdn.com/bphoto/h9vbTV...</td>\n",
       "      <td>False</td>\n",
       "      <td>https://www.yelp.com/biz/thai-hut-redding?adju...</td>\n",
       "      <td>445</td>\n",
       "      <td>[{'alias': 'thai', 'title': 'Thai'}]</td>\n",
       "      <td>4.5</td>\n",
       "      <td>{'latitude': 40.5634528076853, 'longitude': -1...</td>\n",
       "      <td>[delivery]</td>\n",
       "      <td>$$</td>\n",
       "      <td>{'address1': '1165 Hartnell Ave', 'address2': ...</td>\n",
       "      <td>+15302228405</td>\n",
       "      <td>(530) 222-8405</td>\n",
       "      <td>1549.345760</td>\n",
       "    </tr>\n",
       "    <tr>\n",
       "      <th>2</th>\n",
       "      <td>PrpQJCxSl9CDYWZcYTMwtg</td>\n",
       "      <td>janyas-thai-cuisine-redding</td>\n",
       "      <td>Janyas Thai Cuisine</td>\n",
       "      <td>https://s3-media4.fl.yelpcdn.com/bphoto/PzQj2N...</td>\n",
       "      <td>False</td>\n",
       "      <td>https://www.yelp.com/biz/janyas-thai-cuisine-r...</td>\n",
       "      <td>278</td>\n",
       "      <td>[{'alias': 'thai', 'title': 'Thai'}]</td>\n",
       "      <td>4.0</td>\n",
       "      <td>{'latitude': 40.5979018677537, 'longitude': -1...</td>\n",
       "      <td>[delivery]</td>\n",
       "      <td>$$</td>\n",
       "      <td>{'address1': '630 N Market St', 'address2': ''...</td>\n",
       "      <td>+15302437682</td>\n",
       "      <td>(530) 243-7682</td>\n",
       "      <td>3386.564929</td>\n",
       "    </tr>\n",
       "    <tr>\n",
       "      <th>3</th>\n",
       "      <td>QtF_5NfBvn3PvRS9nKvHZw</td>\n",
       "      <td>rose-garden-redding-2</td>\n",
       "      <td>Rose Garden</td>\n",
       "      <td>https://s3-media4.fl.yelpcdn.com/bphoto/N7_n1R...</td>\n",
       "      <td>False</td>\n",
       "      <td>https://www.yelp.com/biz/rose-garden-redding-2...</td>\n",
       "      <td>181</td>\n",
       "      <td>[{'alias': 'thai', 'title': 'Thai'}, {'alias':...</td>\n",
       "      <td>4.0</td>\n",
       "      <td>{'latitude': 40.5702422, 'longitude': -122.387...</td>\n",
       "      <td>[]</td>\n",
       "      <td>$</td>\n",
       "      <td>{'address1': '2825 S Market St', 'address2': '...</td>\n",
       "      <td>+15302438863</td>\n",
       "      <td>(530) 243-8863</td>\n",
       "      <td>2234.284231</td>\n",
       "    </tr>\n",
       "    <tr>\n",
       "      <th>4</th>\n",
       "      <td>H6OFH-qwu5tz3StMCDnIsw</td>\n",
       "      <td>thai-cafe-redding</td>\n",
       "      <td>Thai Cafe</td>\n",
       "      <td>https://s3-media2.fl.yelpcdn.com/bphoto/IzAJU8...</td>\n",
       "      <td>False</td>\n",
       "      <td>https://www.yelp.com/biz/thai-cafe-redding?adj...</td>\n",
       "      <td>111</td>\n",
       "      <td>[{'alias': 'thai', 'title': 'Thai'}]</td>\n",
       "      <td>4.0</td>\n",
       "      <td>{'latitude': 40.5865325927734, 'longitude': -1...</td>\n",
       "      <td>[delivery]</td>\n",
       "      <td>$$</td>\n",
       "      <td>{'address1': '820 Butte St', 'address2': '', '...</td>\n",
       "      <td>+15302435523</td>\n",
       "      <td>(530) 243-5523</td>\n",
       "      <td>2251.315624</td>\n",
       "    </tr>\n",
       "  </tbody>\n",
       "</table>\n",
       "</div>"
      ],
      "text/plain": [
       "                       id                        alias                 name  \\\n",
       "0  R_clG6jfCQCKHkEGpAUGxA        champa-garden-redding        Champa Garden   \n",
       "1  3ZgGOThmrvrYBnmKgyFYJg             thai-hut-redding             Thai Hut   \n",
       "2  PrpQJCxSl9CDYWZcYTMwtg  janyas-thai-cuisine-redding  Janyas Thai Cuisine   \n",
       "3  QtF_5NfBvn3PvRS9nKvHZw        rose-garden-redding-2          Rose Garden   \n",
       "4  H6OFH-qwu5tz3StMCDnIsw            thai-cafe-redding            Thai Cafe   \n",
       "\n",
       "                                           image_url  is_closed  \\\n",
       "0  https://s3-media3.fl.yelpcdn.com/bphoto/6NUt98...      False   \n",
       "1  https://s3-media3.fl.yelpcdn.com/bphoto/h9vbTV...      False   \n",
       "2  https://s3-media4.fl.yelpcdn.com/bphoto/PzQj2N...      False   \n",
       "3  https://s3-media4.fl.yelpcdn.com/bphoto/N7_n1R...      False   \n",
       "4  https://s3-media2.fl.yelpcdn.com/bphoto/IzAJU8...      False   \n",
       "\n",
       "                                                 url  review_count  \\\n",
       "0  https://www.yelp.com/biz/champa-garden-redding...           889   \n",
       "1  https://www.yelp.com/biz/thai-hut-redding?adju...           445   \n",
       "2  https://www.yelp.com/biz/janyas-thai-cuisine-r...           278   \n",
       "3  https://www.yelp.com/biz/rose-garden-redding-2...           181   \n",
       "4  https://www.yelp.com/biz/thai-cafe-redding?adj...           111   \n",
       "\n",
       "                                          categories  rating  \\\n",
       "0  [{'alias': 'thai', 'title': 'Thai'}, {'alias':...     4.5   \n",
       "1               [{'alias': 'thai', 'title': 'Thai'}]     4.5   \n",
       "2               [{'alias': 'thai', 'title': 'Thai'}]     4.0   \n",
       "3  [{'alias': 'thai', 'title': 'Thai'}, {'alias':...     4.0   \n",
       "4               [{'alias': 'thai', 'title': 'Thai'}]     4.0   \n",
       "\n",
       "                                         coordinates transactions price  \\\n",
       "0    {'latitude': 40.59129, 'longitude': -122.35724}   [delivery]    $$   \n",
       "1  {'latitude': 40.5634528076853, 'longitude': -1...   [delivery]    $$   \n",
       "2  {'latitude': 40.5979018677537, 'longitude': -1...   [delivery]    $$   \n",
       "3  {'latitude': 40.5702422, 'longitude': -122.387...           []     $   \n",
       "4  {'latitude': 40.5865325927734, 'longitude': -1...   [delivery]    $$   \n",
       "\n",
       "                                            location         phone  \\\n",
       "0  {'address1': '1107 Hilltop Dr', 'address2': ''...  +15302214999   \n",
       "1  {'address1': '1165 Hartnell Ave', 'address2': ...  +15302228405   \n",
       "2  {'address1': '630 N Market St', 'address2': ''...  +15302437682   \n",
       "3  {'address1': '2825 S Market St', 'address2': '...  +15302438863   \n",
       "4  {'address1': '820 Butte St', 'address2': '', '...  +15302435523   \n",
       "\n",
       "    display_phone     distance  \n",
       "0  (530) 221-4999  1942.462090  \n",
       "1  (530) 222-8405  1549.345760  \n",
       "2  (530) 243-7682  3386.564929  \n",
       "3  (530) 243-8863  2234.284231  \n",
       "4  (530) 243-5523  2251.315624  "
      ]
     },
     "execution_count": 78,
     "metadata": {},
     "output_type": "execute_result"
    }
   ],
   "source": [
    "biz = pd.DataFrame(search_results['businesses'])\n",
    "biz.head() "
   ]
  },
  {
   "cell_type": "markdown",
   "id": "f93fe7eb",
   "metadata": {},
   "source": [
    "## Extract all of the results from your search and compile them into one dataframe using a for loop as shown in the lesson \"Code for Efficient API Extraction\""
   ]
  },
  {
   "cell_type": "code",
   "execution_count": 79,
   "id": "5d7a51b8",
   "metadata": {},
   "outputs": [
    {
     "data": {
      "text/plain": [
       "1"
      ]
     },
     "execution_count": 79,
     "metadata": {},
     "output_type": "execute_result"
    }
   ],
   "source": [
    "# Import additional packages for controlling our loop\n",
    "import time, math\n",
    "# Use math.ceil to round up for the total number of pages of results.\n",
    "n_pages = math.ceil((search_results['total']-n_results)/ results_per_page)\n",
    "n_pages"
   ]
  },
  {
   "cell_type": "code",
   "execution_count": 80,
   "id": "c546ed97",
   "metadata": {
    "scrolled": true
   },
   "outputs": [
    {
     "name": "stdout",
     "output_type": "stream",
     "text": [
      "- 0 previous results found.\n"
     ]
    }
   ],
   "source": [
    "## Load previous results and use len of results for offset\n",
    "with open(JSON_FILE,'r') as f:\n",
    "    previous_results = json.load(f)\n",
    "    \n",
    "## set offset based on previous results\n",
    "n_results = len(previous_results)\n",
    "print(f'- {n_results} previous results found.')\n"
   ]
  },
  {
   "cell_type": "code",
   "execution_count": 81,
   "id": "0d80dc36",
   "metadata": {
    "scrolled": false
   },
   "outputs": [
    {
     "name": "stdout",
     "output_type": "stream",
     "text": [
      "Requirement already satisfied: tqdm in c:\\users\\erics\\anaconda3\\envs\\dojo-env\\lib\\site-packages (4.64.1)\n",
      "Requirement already satisfied: colorama in c:\\users\\erics\\anaconda3\\envs\\dojo-env\\lib\\site-packages (from tqdm) (0.4.5)\n",
      "Note: you may need to restart the kernel to use updated packages.\n"
     ]
    }
   ],
   "source": [
    "#Install tqdm\n",
    "pip install tqdm"
   ]
  },
  {
   "cell_type": "code",
   "execution_count": 82,
   "id": "b460e03f",
   "metadata": {},
   "outputs": [],
   "source": [
    "# join new results with old list with extend and save to file\n",
    "previous_results.extend(search_results['businesses'])  \n",
    "with open(JSON_FILE,'w') as f:\n",
    "     json.dump(previous_results,f)"
   ]
  },
  {
   "cell_type": "code",
   "execution_count": 83,
   "id": "ba31566e",
   "metadata": {
    "scrolled": true
   },
   "outputs": [
    {
     "data": {
      "application/vnd.jupyter.widget-view+json": {
       "model_id": "a12b116d596041a4af4949df79d9311b",
       "version_major": 2,
       "version_minor": 0
      },
      "text/plain": [
       "  0%|          | 0/1 [00:00<?, ?it/s]"
      ]
     },
     "metadata": {},
     "output_type": "display_data"
    }
   ],
   "source": [
    "#Import tqdm notebook\n",
    "from tqdm.notebook import tqdm_notebook\n",
    "import time\n",
    "for i in tqdm_notebook(range(n_pages)):\n",
    "    # adds 200 ms pause\n",
    "    time.sleep(.2) "
   ]
  },
  {
   "cell_type": "code",
   "execution_count": 84,
   "id": "e81880ad",
   "metadata": {},
   "outputs": [
    {
     "data": {
      "application/vnd.jupyter.widget-view+json": {
       "model_id": "c17368108089470a853d5b90c588945a",
       "version_major": 2,
       "version_minor": 0
      },
      "text/plain": [
       "  0%|          | 0/1 [00:00<?, ?it/s]"
      ]
     },
     "metadata": {},
     "output_type": "display_data"
    }
   ],
   "source": [
    "for i in tqdm_notebook( range(1,n_pages+1)):\n",
    "    \n",
    "    ## Read in results in progress file and check the length\n",
    "    with open(JSON_FILE, 'r') as f:\n",
    "        previous_results = json.load(f)\n",
    "    ## save number of results for to use as offset\n",
    "    n_results = len(previous_results)\n",
    "    ## use n_results as the OFFSET \n",
    "    results = yelp_api.search_query(location=LOCATION,\n",
    "                                    term=TERM, \n",
    "                                    offset=n_results)\n",
    "    \n",
    "    ## append new results and save to file\n",
    "    previous_results.extend(search_results['businesses'])\n",
    "    \n",
    "    with open(JSON_FILE,'w') as f:\n",
    "        json.dump(previous_results,f)\n",
    "    \n",
    "    # add a 200ms pause\n",
    "    time.sleep(.2)\n",
    "\n"
   ]
  },
  {
   "cell_type": "code",
   "execution_count": 85,
   "id": "aa8d720d",
   "metadata": {},
   "outputs": [
    {
     "data": {
      "text/html": [
       "<div>\n",
       "<style scoped>\n",
       "    .dataframe tbody tr th:only-of-type {\n",
       "        vertical-align: middle;\n",
       "    }\n",
       "\n",
       "    .dataframe tbody tr th {\n",
       "        vertical-align: top;\n",
       "    }\n",
       "\n",
       "    .dataframe thead th {\n",
       "        text-align: right;\n",
       "    }\n",
       "</style>\n",
       "<table border=\"1\" class=\"dataframe\">\n",
       "  <thead>\n",
       "    <tr style=\"text-align: right;\">\n",
       "      <th></th>\n",
       "      <th>id</th>\n",
       "      <th>alias</th>\n",
       "      <th>name</th>\n",
       "      <th>image_url</th>\n",
       "      <th>is_closed</th>\n",
       "      <th>url</th>\n",
       "      <th>review_count</th>\n",
       "      <th>categories</th>\n",
       "      <th>rating</th>\n",
       "      <th>coordinates</th>\n",
       "      <th>transactions</th>\n",
       "      <th>price</th>\n",
       "      <th>location</th>\n",
       "      <th>phone</th>\n",
       "      <th>display_phone</th>\n",
       "      <th>distance</th>\n",
       "    </tr>\n",
       "  </thead>\n",
       "  <tbody>\n",
       "    <tr>\n",
       "      <th>0</th>\n",
       "      <td>R_clG6jfCQCKHkEGpAUGxA</td>\n",
       "      <td>champa-garden-redding</td>\n",
       "      <td>Champa Garden</td>\n",
       "      <td>https://s3-media3.fl.yelpcdn.com/bphoto/6NUt98...</td>\n",
       "      <td>False</td>\n",
       "      <td>https://www.yelp.com/biz/champa-garden-redding...</td>\n",
       "      <td>889</td>\n",
       "      <td>[{'alias': 'thai', 'title': 'Thai'}, {'alias':...</td>\n",
       "      <td>4.5</td>\n",
       "      <td>{'latitude': 40.59129, 'longitude': -122.35724}</td>\n",
       "      <td>[delivery]</td>\n",
       "      <td>$$</td>\n",
       "      <td>{'address1': '1107 Hilltop Dr', 'address2': ''...</td>\n",
       "      <td>15302214999</td>\n",
       "      <td>(530) 221-4999</td>\n",
       "      <td>1942.462090</td>\n",
       "    </tr>\n",
       "    <tr>\n",
       "      <th>1</th>\n",
       "      <td>3ZgGOThmrvrYBnmKgyFYJg</td>\n",
       "      <td>thai-hut-redding</td>\n",
       "      <td>Thai Hut</td>\n",
       "      <td>https://s3-media3.fl.yelpcdn.com/bphoto/h9vbTV...</td>\n",
       "      <td>False</td>\n",
       "      <td>https://www.yelp.com/biz/thai-hut-redding?adju...</td>\n",
       "      <td>445</td>\n",
       "      <td>[{'alias': 'thai', 'title': 'Thai'}]</td>\n",
       "      <td>4.5</td>\n",
       "      <td>{'latitude': 40.5634528076853, 'longitude': -1...</td>\n",
       "      <td>[delivery]</td>\n",
       "      <td>$$</td>\n",
       "      <td>{'address1': '1165 Hartnell Ave', 'address2': ...</td>\n",
       "      <td>15302228405</td>\n",
       "      <td>(530) 222-8405</td>\n",
       "      <td>1549.345760</td>\n",
       "    </tr>\n",
       "    <tr>\n",
       "      <th>2</th>\n",
       "      <td>PrpQJCxSl9CDYWZcYTMwtg</td>\n",
       "      <td>janyas-thai-cuisine-redding</td>\n",
       "      <td>Janyas Thai Cuisine</td>\n",
       "      <td>https://s3-media4.fl.yelpcdn.com/bphoto/PzQj2N...</td>\n",
       "      <td>False</td>\n",
       "      <td>https://www.yelp.com/biz/janyas-thai-cuisine-r...</td>\n",
       "      <td>278</td>\n",
       "      <td>[{'alias': 'thai', 'title': 'Thai'}]</td>\n",
       "      <td>4.0</td>\n",
       "      <td>{'latitude': 40.5979018677537, 'longitude': -1...</td>\n",
       "      <td>[delivery]</td>\n",
       "      <td>$$</td>\n",
       "      <td>{'address1': '630 N Market St', 'address2': ''...</td>\n",
       "      <td>15302437682</td>\n",
       "      <td>(530) 243-7682</td>\n",
       "      <td>3386.564929</td>\n",
       "    </tr>\n",
       "    <tr>\n",
       "      <th>3</th>\n",
       "      <td>QtF_5NfBvn3PvRS9nKvHZw</td>\n",
       "      <td>rose-garden-redding-2</td>\n",
       "      <td>Rose Garden</td>\n",
       "      <td>https://s3-media4.fl.yelpcdn.com/bphoto/N7_n1R...</td>\n",
       "      <td>False</td>\n",
       "      <td>https://www.yelp.com/biz/rose-garden-redding-2...</td>\n",
       "      <td>181</td>\n",
       "      <td>[{'alias': 'thai', 'title': 'Thai'}, {'alias':...</td>\n",
       "      <td>4.0</td>\n",
       "      <td>{'latitude': 40.5702422, 'longitude': -122.387...</td>\n",
       "      <td>[]</td>\n",
       "      <td>$</td>\n",
       "      <td>{'address1': '2825 S Market St', 'address2': '...</td>\n",
       "      <td>15302438863</td>\n",
       "      <td>(530) 243-8863</td>\n",
       "      <td>2234.284231</td>\n",
       "    </tr>\n",
       "    <tr>\n",
       "      <th>4</th>\n",
       "      <td>H6OFH-qwu5tz3StMCDnIsw</td>\n",
       "      <td>thai-cafe-redding</td>\n",
       "      <td>Thai Cafe</td>\n",
       "      <td>https://s3-media2.fl.yelpcdn.com/bphoto/IzAJU8...</td>\n",
       "      <td>False</td>\n",
       "      <td>https://www.yelp.com/biz/thai-cafe-redding?adj...</td>\n",
       "      <td>111</td>\n",
       "      <td>[{'alias': 'thai', 'title': 'Thai'}]</td>\n",
       "      <td>4.0</td>\n",
       "      <td>{'latitude': 40.5865325927734, 'longitude': -1...</td>\n",
       "      <td>[delivery]</td>\n",
       "      <td>$$</td>\n",
       "      <td>{'address1': '820 Butte St', 'address2': '', '...</td>\n",
       "      <td>15302435523</td>\n",
       "      <td>(530) 243-5523</td>\n",
       "      <td>2251.315624</td>\n",
       "    </tr>\n",
       "  </tbody>\n",
       "</table>\n",
       "</div>"
      ],
      "text/plain": [
       "                       id                        alias                 name  \\\n",
       "0  R_clG6jfCQCKHkEGpAUGxA        champa-garden-redding        Champa Garden   \n",
       "1  3ZgGOThmrvrYBnmKgyFYJg             thai-hut-redding             Thai Hut   \n",
       "2  PrpQJCxSl9CDYWZcYTMwtg  janyas-thai-cuisine-redding  Janyas Thai Cuisine   \n",
       "3  QtF_5NfBvn3PvRS9nKvHZw        rose-garden-redding-2          Rose Garden   \n",
       "4  H6OFH-qwu5tz3StMCDnIsw            thai-cafe-redding            Thai Cafe   \n",
       "\n",
       "                                           image_url  is_closed  \\\n",
       "0  https://s3-media3.fl.yelpcdn.com/bphoto/6NUt98...      False   \n",
       "1  https://s3-media3.fl.yelpcdn.com/bphoto/h9vbTV...      False   \n",
       "2  https://s3-media4.fl.yelpcdn.com/bphoto/PzQj2N...      False   \n",
       "3  https://s3-media4.fl.yelpcdn.com/bphoto/N7_n1R...      False   \n",
       "4  https://s3-media2.fl.yelpcdn.com/bphoto/IzAJU8...      False   \n",
       "\n",
       "                                                 url  review_count  \\\n",
       "0  https://www.yelp.com/biz/champa-garden-redding...           889   \n",
       "1  https://www.yelp.com/biz/thai-hut-redding?adju...           445   \n",
       "2  https://www.yelp.com/biz/janyas-thai-cuisine-r...           278   \n",
       "3  https://www.yelp.com/biz/rose-garden-redding-2...           181   \n",
       "4  https://www.yelp.com/biz/thai-cafe-redding?adj...           111   \n",
       "\n",
       "                                          categories  rating  \\\n",
       "0  [{'alias': 'thai', 'title': 'Thai'}, {'alias':...     4.5   \n",
       "1               [{'alias': 'thai', 'title': 'Thai'}]     4.5   \n",
       "2               [{'alias': 'thai', 'title': 'Thai'}]     4.0   \n",
       "3  [{'alias': 'thai', 'title': 'Thai'}, {'alias':...     4.0   \n",
       "4               [{'alias': 'thai', 'title': 'Thai'}]     4.0   \n",
       "\n",
       "                                         coordinates transactions price  \\\n",
       "0    {'latitude': 40.59129, 'longitude': -122.35724}   [delivery]    $$   \n",
       "1  {'latitude': 40.5634528076853, 'longitude': -1...   [delivery]    $$   \n",
       "2  {'latitude': 40.5979018677537, 'longitude': -1...   [delivery]    $$   \n",
       "3  {'latitude': 40.5702422, 'longitude': -122.387...           []     $   \n",
       "4  {'latitude': 40.5865325927734, 'longitude': -1...   [delivery]    $$   \n",
       "\n",
       "                                            location        phone  \\\n",
       "0  {'address1': '1107 Hilltop Dr', 'address2': ''...  15302214999   \n",
       "1  {'address1': '1165 Hartnell Ave', 'address2': ...  15302228405   \n",
       "2  {'address1': '630 N Market St', 'address2': ''...  15302437682   \n",
       "3  {'address1': '2825 S Market St', 'address2': '...  15302438863   \n",
       "4  {'address1': '820 Butte St', 'address2': '', '...  15302435523   \n",
       "\n",
       "    display_phone     distance  \n",
       "0  (530) 221-4999  1942.462090  \n",
       "1  (530) 222-8405  1549.345760  \n",
       "2  (530) 243-7682  3386.564929  \n",
       "3  (530) 243-8863  2234.284231  \n",
       "4  (530) 243-5523  2251.315624  "
      ]
     },
     "metadata": {},
     "output_type": "display_data"
    },
    {
     "data": {
      "text/html": [
       "<div>\n",
       "<style scoped>\n",
       "    .dataframe tbody tr th:only-of-type {\n",
       "        vertical-align: middle;\n",
       "    }\n",
       "\n",
       "    .dataframe tbody tr th {\n",
       "        vertical-align: top;\n",
       "    }\n",
       "\n",
       "    .dataframe thead th {\n",
       "        text-align: right;\n",
       "    }\n",
       "</style>\n",
       "<table border=\"1\" class=\"dataframe\">\n",
       "  <thead>\n",
       "    <tr style=\"text-align: right;\">\n",
       "      <th></th>\n",
       "      <th>id</th>\n",
       "      <th>alias</th>\n",
       "      <th>name</th>\n",
       "      <th>image_url</th>\n",
       "      <th>is_closed</th>\n",
       "      <th>url</th>\n",
       "      <th>review_count</th>\n",
       "      <th>categories</th>\n",
       "      <th>rating</th>\n",
       "      <th>coordinates</th>\n",
       "      <th>transactions</th>\n",
       "      <th>price</th>\n",
       "      <th>location</th>\n",
       "      <th>phone</th>\n",
       "      <th>display_phone</th>\n",
       "      <th>distance</th>\n",
       "    </tr>\n",
       "  </thead>\n",
       "  <tbody>\n",
       "    <tr>\n",
       "      <th>31</th>\n",
       "      <td>HSYAmm-BN1etAeWPrgZb_A</td>\n",
       "      <td>kanya-market-redding</td>\n",
       "      <td>Kanya Market</td>\n",
       "      <td>https://s3-media2.fl.yelpcdn.com/bphoto/0ruT9S...</td>\n",
       "      <td>False</td>\n",
       "      <td>https://www.yelp.com/biz/kanya-market-redding?...</td>\n",
       "      <td>64</td>\n",
       "      <td>[{'alias': 'hotdogs', 'title': 'Fast Food'}, {...</td>\n",
       "      <td>4.0</td>\n",
       "      <td>{'latitude': 40.564221, 'longitude': -122.353474}</td>\n",
       "      <td>[delivery]</td>\n",
       "      <td>$</td>\n",
       "      <td>{'address1': '970 Hartnell Ave', 'address2': '...</td>\n",
       "      <td>15302227609</td>\n",
       "      <td>(530) 222-7609</td>\n",
       "      <td>1299.516052</td>\n",
       "    </tr>\n",
       "    <tr>\n",
       "      <th>32</th>\n",
       "      <td>6V9a5Adj-aFy2ZSM09h0sg</td>\n",
       "      <td>boba-tea-and-coffee-redding</td>\n",
       "      <td>Boba Tea &amp; Coffee</td>\n",
       "      <td>https://s3-media3.fl.yelpcdn.com/bphoto/NTr5vM...</td>\n",
       "      <td>False</td>\n",
       "      <td>https://www.yelp.com/biz/boba-tea-and-coffee-r...</td>\n",
       "      <td>116</td>\n",
       "      <td>[{'alias': 'taiwanese', 'title': 'Taiwanese'},...</td>\n",
       "      <td>4.0</td>\n",
       "      <td>{'latitude': 40.5639496, 'longitude': -122.352...</td>\n",
       "      <td>[pickup]</td>\n",
       "      <td>$</td>\n",
       "      <td>{'address1': '2999 Churn Creek Rd', 'address2'...</td>\n",
       "      <td>15302211930</td>\n",
       "      <td>(530) 221-1930</td>\n",
       "      <td>1342.647391</td>\n",
       "    </tr>\n",
       "    <tr>\n",
       "      <th>33</th>\n",
       "      <td>8DQ7BdSsO5k6N5BE3Chhcw</td>\n",
       "      <td>new-china-redding</td>\n",
       "      <td>New China</td>\n",
       "      <td>https://s3-media2.fl.yelpcdn.com/bphoto/9l-4AY...</td>\n",
       "      <td>False</td>\n",
       "      <td>https://www.yelp.com/biz/new-china-redding?adj...</td>\n",
       "      <td>221</td>\n",
       "      <td>[{'alias': 'chinese', 'title': 'Chinese'}, {'a...</td>\n",
       "      <td>4.0</td>\n",
       "      <td>{'latitude': 40.583114, 'longitude': -122.425491}</td>\n",
       "      <td>[delivery, pickup]</td>\n",
       "      <td>$$</td>\n",
       "      <td>{'address1': '3669 Eureka Way', 'address2': ''...</td>\n",
       "      <td>15302469522</td>\n",
       "      <td>(530) 246-9522</td>\n",
       "      <td>5487.043285</td>\n",
       "    </tr>\n",
       "    <tr>\n",
       "      <th>34</th>\n",
       "      <td>4dzE57iooJCghpI5C34Ozg</td>\n",
       "      <td>fresh-fire-grill-redding</td>\n",
       "      <td>Fresh Fire Grill - Asian/American Fusion Resta...</td>\n",
       "      <td>https://s3-media3.fl.yelpcdn.com/bphoto/9twPO2...</td>\n",
       "      <td>False</td>\n",
       "      <td>https://www.yelp.com/biz/fresh-fire-grill-redd...</td>\n",
       "      <td>87</td>\n",
       "      <td>[{'alias': 'asianfusion', 'title': 'Asian Fusi...</td>\n",
       "      <td>4.0</td>\n",
       "      <td>{'latitude': 40.6115834469062, 'longitude': -1...</td>\n",
       "      <td>[delivery, pickup]</td>\n",
       "      <td>NaN</td>\n",
       "      <td>{'address1': '161 Lake Blvd', 'address2': None...</td>\n",
       "      <td>15307685688</td>\n",
       "      <td>(530) 768-5688</td>\n",
       "      <td>4431.579792</td>\n",
       "    </tr>\n",
       "    <tr>\n",
       "      <th>35</th>\n",
       "      <td>0KYR7h1KXWhKKnNLTZohRQ</td>\n",
       "      <td>fresh-fire-grill-palo-cedro</td>\n",
       "      <td>Fresh Fire Grill</td>\n",
       "      <td>https://s3-media4.fl.yelpcdn.com/bphoto/oUGtRh...</td>\n",
       "      <td>False</td>\n",
       "      <td>https://www.yelp.com/biz/fresh-fire-grill-palo...</td>\n",
       "      <td>175</td>\n",
       "      <td>[{'alias': 'asianfusion', 'title': 'Asian Fusi...</td>\n",
       "      <td>4.5</td>\n",
       "      <td>{'latitude': 40.56439573760859, 'longitude': -...</td>\n",
       "      <td>[delivery]</td>\n",
       "      <td>$</td>\n",
       "      <td>{'address1': '9520 Deschutes Rd', 'address2': ...</td>\n",
       "      <td>15302271740</td>\n",
       "      <td>(530) 227-1740</td>\n",
       "      <td>10411.028811</td>\n",
       "    </tr>\n",
       "  </tbody>\n",
       "</table>\n",
       "</div>"
      ],
      "text/plain": [
       "                        id                        alias  \\\n",
       "31  HSYAmm-BN1etAeWPrgZb_A         kanya-market-redding   \n",
       "32  6V9a5Adj-aFy2ZSM09h0sg  boba-tea-and-coffee-redding   \n",
       "33  8DQ7BdSsO5k6N5BE3Chhcw            new-china-redding   \n",
       "34  4dzE57iooJCghpI5C34Ozg     fresh-fire-grill-redding   \n",
       "35  0KYR7h1KXWhKKnNLTZohRQ  fresh-fire-grill-palo-cedro   \n",
       "\n",
       "                                                 name  \\\n",
       "31                                       Kanya Market   \n",
       "32                                  Boba Tea & Coffee   \n",
       "33                                          New China   \n",
       "34  Fresh Fire Grill - Asian/American Fusion Resta...   \n",
       "35                                   Fresh Fire Grill   \n",
       "\n",
       "                                            image_url  is_closed  \\\n",
       "31  https://s3-media2.fl.yelpcdn.com/bphoto/0ruT9S...      False   \n",
       "32  https://s3-media3.fl.yelpcdn.com/bphoto/NTr5vM...      False   \n",
       "33  https://s3-media2.fl.yelpcdn.com/bphoto/9l-4AY...      False   \n",
       "34  https://s3-media3.fl.yelpcdn.com/bphoto/9twPO2...      False   \n",
       "35  https://s3-media4.fl.yelpcdn.com/bphoto/oUGtRh...      False   \n",
       "\n",
       "                                                  url  review_count  \\\n",
       "31  https://www.yelp.com/biz/kanya-market-redding?...            64   \n",
       "32  https://www.yelp.com/biz/boba-tea-and-coffee-r...           116   \n",
       "33  https://www.yelp.com/biz/new-china-redding?adj...           221   \n",
       "34  https://www.yelp.com/biz/fresh-fire-grill-redd...            87   \n",
       "35  https://www.yelp.com/biz/fresh-fire-grill-palo...           175   \n",
       "\n",
       "                                           categories  rating  \\\n",
       "31  [{'alias': 'hotdogs', 'title': 'Fast Food'}, {...     4.0   \n",
       "32  [{'alias': 'taiwanese', 'title': 'Taiwanese'},...     4.0   \n",
       "33  [{'alias': 'chinese', 'title': 'Chinese'}, {'a...     4.0   \n",
       "34  [{'alias': 'asianfusion', 'title': 'Asian Fusi...     4.0   \n",
       "35  [{'alias': 'asianfusion', 'title': 'Asian Fusi...     4.5   \n",
       "\n",
       "                                          coordinates        transactions  \\\n",
       "31  {'latitude': 40.564221, 'longitude': -122.353474}          [delivery]   \n",
       "32  {'latitude': 40.5639496, 'longitude': -122.352...            [pickup]   \n",
       "33  {'latitude': 40.583114, 'longitude': -122.425491}  [delivery, pickup]   \n",
       "34  {'latitude': 40.6115834469062, 'longitude': -1...  [delivery, pickup]   \n",
       "35  {'latitude': 40.56439573760859, 'longitude': -...          [delivery]   \n",
       "\n",
       "   price                                           location        phone  \\\n",
       "31     $  {'address1': '970 Hartnell Ave', 'address2': '...  15302227609   \n",
       "32     $  {'address1': '2999 Churn Creek Rd', 'address2'...  15302211930   \n",
       "33    $$  {'address1': '3669 Eureka Way', 'address2': ''...  15302469522   \n",
       "34   NaN  {'address1': '161 Lake Blvd', 'address2': None...  15307685688   \n",
       "35     $  {'address1': '9520 Deschutes Rd', 'address2': ...  15302271740   \n",
       "\n",
       "     display_phone      distance  \n",
       "31  (530) 222-7609   1299.516052  \n",
       "32  (530) 221-1930   1342.647391  \n",
       "33  (530) 246-9522   5487.043285  \n",
       "34  (530) 768-5688   4431.579792  \n",
       "35  (530) 227-1740  10411.028811  "
      ]
     },
     "metadata": {},
     "output_type": "display_data"
    }
   ],
   "source": [
    "# load final results\n",
    "final_df = pd.read_json(JSON_FILE)\n",
    "display(final_df.head(), final_df.tail())"
   ]
  },
  {
   "cell_type": "markdown",
   "id": "3599ffae",
   "metadata": {},
   "source": [
    "## Save your notebook, commit the change to your repository and submit the repository URL for this assignment."
   ]
  },
  {
   "cell_type": "code",
   "execution_count": 87,
   "id": "25ac500c",
   "metadata": {},
   "outputs": [],
   "source": [
    "# save the final results to a compressed csv\n",
    "final_df.to_csv('Data/final_results_Redding_Thai-food.csv.gz', compression='gzip',index=False)"
   ]
  }
 ],
 "metadata": {
  "kernelspec": {
   "display_name": "Python 3 (ipykernel)",
   "language": "python",
   "name": "python3"
  },
  "language_info": {
   "codemirror_mode": {
    "name": "ipython",
    "version": 3
   },
   "file_extension": ".py",
   "mimetype": "text/x-python",
   "name": "python",
   "nbconvert_exporter": "python",
   "pygments_lexer": "ipython3",
   "version": "3.8.13"
  },
  "toc": {
   "base_numbering": 1,
   "nav_menu": {},
   "number_sections": false,
   "sideBar": true,
   "skip_h1_title": false,
   "title_cell": "Table of Contents",
   "title_sidebar": "Contents",
   "toc_cell": false,
   "toc_position": {},
   "toc_section_display": true,
   "toc_window_display": true
  }
 },
 "nbformat": 4,
 "nbformat_minor": 5
}
